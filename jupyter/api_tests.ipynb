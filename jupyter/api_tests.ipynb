{
 "cells": [
  {
   "cell_type": "code",
   "execution_count": 6,
   "metadata": {},
   "outputs": [],
   "source": [
    "import json\n",
    "import boto3\n",
    "import requests\n",
    "import pandas as pd\n",
    "from base64 import b64encode, b64decode"
   ]
  },
  {
   "cell_type": "markdown",
   "metadata": {},
   "source": [
    "#### Post request to API"
   ]
  },
  {
   "cell_type": "code",
   "execution_count": 7,
   "metadata": {},
   "outputs": [],
   "source": [
    "with open('api_creds.json') as f:\n",
    "    api_creds = json.loads(f.read())"
   ]
  },
  {
   "cell_type": "code",
   "execution_count": 8,
   "metadata": {},
   "outputs": [
    {
     "name": "stdout",
     "output_type": "stream",
     "text": [
      "eyJldmVudCI6ICJoZWoiLCAiY2F0ZWdvcnkiOiAidGVzdCIsICJleGFtcGxlX3ZhciI6IDEyMywgImlwIjogMTIzNDU2Nzg5MH0=\n"
     ]
    }
   ],
   "source": [
    "example_data_package = {'event': 'hej', 'category': 'test', 'example_var': 123, 'ip': 1234567890}\n",
    "b64_str = b64encode(json.dumps(example_data_package).encode()).decode()\n",
    "print(b64_str)"
   ]
  },
  {
   "cell_type": "code",
   "execution_count": 11,
   "metadata": {},
   "outputs": [
    {
     "name": "stdout",
     "output_type": "stream",
     "text": [
      "{'x-api-key': '9pJULVaZ9J9lxPvjR3Oy12jo7D8Wq8MP2Lqxut5b'}\n",
      "https://oze4j8omqk.execute-api.eu-west-1.amazonaws.com/prod/send_data?data=eyJldmVudCI6ICJoZWoiLCAiY2F0ZWdvcnkiOiAidGVzdCIsICJleGFtcGxlX3ZhciI6IDEyMywgImlwIjogMTIzNDU2Nzg5MH0=\n",
      "success!\n"
     ]
    }
   ],
   "source": [
    "endpoint = api_creds['endpoint']\n",
    "headers = {'x-api-key': api_creds['api-key']}\n",
    "print(headers)\n",
    "# Add the resources (send_data) and query param data=\n",
    "url = endpoint + f'send_data?data={b64_str}'\n",
    "print(url)\n",
    "response = requests.get(url=url, headers=headers)\n",
    "if response.status_code == 200:\n",
    "    print('success!')"
   ]
  },
  {
   "cell_type": "code",
   "execution_count": 12,
   "metadata": {},
   "outputs": [
    {
     "data": {
      "text/plain": [
       "{'geo_country': 'SE',\n",
       " 'device': 'Desktop',\n",
       " 'user_agent': 'python-requests/2.24.0',\n",
       " 'event_data': {'event': 'hej',\n",
       "  'category': 'test',\n",
       "  'example_var': 123,\n",
       "  'ip': 1234567890},\n",
       " 'utc_timestamp': 1607088124.7337978}"
      ]
     },
     "execution_count": 12,
     "metadata": {},
     "output_type": "execute_result"
    }
   ],
   "source": [
    "response.json()"
   ]
  },
  {
   "cell_type": "code",
   "execution_count": null,
   "metadata": {},
   "outputs": [],
   "source": []
  },
  {
   "cell_type": "code",
   "execution_count": null,
   "metadata": {},
   "outputs": [],
   "source": []
  }
 ],
 "metadata": {
  "kernelspec": {
   "display_name": "mvp-pipeline",
   "language": "python",
   "name": "mvp-pipeline"
  },
  "language_info": {
   "codemirror_mode": {
    "name": "ipython",
    "version": 3
   },
   "file_extension": ".py",
   "mimetype": "text/x-python",
   "name": "python",
   "nbconvert_exporter": "python",
   "pygments_lexer": "ipython3",
   "version": "3.7.3"
  }
 },
 "nbformat": 4,
 "nbformat_minor": 4
}
