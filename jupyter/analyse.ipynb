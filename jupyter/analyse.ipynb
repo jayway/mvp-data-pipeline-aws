{
 "cells": [
  {
   "cell_type": "code",
   "execution_count": 6,
   "metadata": {},
   "outputs": [],
   "source": [
    "import json\n",
    "import boto3\n",
    "import requests\n",
    "import pandas as pd\n",
    "from datetime import datetime"
   ]
  },
  {
   "cell_type": "markdown",
   "metadata": {},
   "source": [
    "## Get files from the bucket\n",
    "**NOTE:** No steps will work here unless you've set the AWS credentials in the poetry shell: \n",
    "- `export AWS_PROFILE=<your profile name>`"
   ]
  },
  {
   "cell_type": "code",
   "execution_count": 9,
   "metadata": {},
   "outputs": [],
   "source": [
    "s3 = boto3.resource('s3')\n",
    "bucket = s3.Bucket('test-event-storage-bucket')"
   ]
  },
  {
   "cell_type": "code",
   "execution_count": 10,
   "metadata": {},
   "outputs": [
    {
     "data": {
      "text/plain": [
       "['events/2020/12/04/12/my-pipeline-firehose-1-2020-12-04-12-59-41-03d12bbb-ef41-49db-a220-ae7deee1d0e8',\n",
       " 'events/2020/12/04/13/my-pipeline-firehose-2-2020-12-04-13-20-39-3078e44b-64aa-4b41-b468-9d1fef64dfdf',\n",
       " 'events/2020/12/04/13/my-pipeline-firehose-2-2020-12-04-13-22-04-6c149022-3cf7-4e0b-aa6a-eeec48abcb35']"
      ]
     },
     "execution_count": 10,
     "metadata": {},
     "output_type": "execute_result"
    }
   ],
   "source": [
    "# Load all the file keys (each file is a batched output from the kinesis firehose)\n",
    "file_keys = [obj.key for obj in bucket.objects.filter(Prefix='events/')]\n",
    "# Print the first 5 in the list\n",
    "file_keys[:5]"
   ]
  },
  {
   "cell_type": "code",
   "execution_count": 14,
   "metadata": {},
   "outputs": [
    {
     "data": {
      "text/plain": [
       "[{'geo_country': 'SE',\n",
       "  'device': 'Desktop',\n",
       "  'user_agent': 'python-requests/2.24.0',\n",
       "  'event_data': {'event': 'hej', 'category': 'test', 'example_var': 123},\n",
       "  'utc_timestamp': 1607088039.2297587},\n",
       " {'geo_country': 'SE',\n",
       "  'device': 'Desktop',\n",
       "  'user_agent': 'python-requests/2.24.0',\n",
       "  'event_data': {'event': 'hej',\n",
       "   'category': 'test',\n",
       "   'example_var': 123,\n",
       "   'ip': 1234567890},\n",
       "  'utc_timestamp': 1607088082.3295436}]"
      ]
     },
     "execution_count": 14,
     "metadata": {},
     "output_type": "execute_result"
    }
   ],
   "source": [
    "# Read a selected file into memory\n",
    "\n",
    "# Create the file as an object\n",
    "#file = s3.Object(bucket.name, file_keys[0])\n",
    "file = s3.Object(bucket.name, file_keys[1])\n",
    "# Read (download) the object\n",
    "json_line = file.get()['Body'].read().decode().strip()\n",
    "# In the pipeline .put_record() method we added a \\n so that we now can split on it to seperate the events\n",
    "json_list = [json.loads(x) for x in json_line.split('\\n')]\n",
    "# Print the first two events\n",
    "json_list[:2]"
   ]
  },
  {
   "cell_type": "code",
   "execution_count": 15,
   "metadata": {},
   "outputs": [],
   "source": [
    "# Turn the Jsons into a dataframe so we can work with them\n",
    "df = pd.json_normalize(json_list, sep='_')\n",
    "# Convert timestamp to humanly readable format\n",
    "df.loc[:, 'utc_timestamp'] = pd.to_datetime(df.utc_timestamp, unit='s')"
   ]
  },
  {
   "cell_type": "code",
   "execution_count": 16,
   "metadata": {},
   "outputs": [
    {
     "data": {
      "text/html": [
       "<div>\n",
       "<style scoped>\n",
       "    .dataframe tbody tr th:only-of-type {\n",
       "        vertical-align: middle;\n",
       "    }\n",
       "\n",
       "    .dataframe tbody tr th {\n",
       "        vertical-align: top;\n",
       "    }\n",
       "\n",
       "    .dataframe thead th {\n",
       "        text-align: right;\n",
       "    }\n",
       "</style>\n",
       "<table border=\"1\" class=\"dataframe\">\n",
       "  <thead>\n",
       "    <tr style=\"text-align: right;\">\n",
       "      <th></th>\n",
       "      <th>geo_country</th>\n",
       "      <th>device</th>\n",
       "      <th>user_agent</th>\n",
       "      <th>utc_timestamp</th>\n",
       "      <th>event_data_event</th>\n",
       "      <th>event_data_category</th>\n",
       "      <th>event_data_example_var</th>\n",
       "      <th>event_data_ip</th>\n",
       "    </tr>\n",
       "  </thead>\n",
       "  <tbody>\n",
       "    <tr>\n",
       "      <th>0</th>\n",
       "      <td>SE</td>\n",
       "      <td>Desktop</td>\n",
       "      <td>python-requests/2.24.0</td>\n",
       "      <td>2020-12-04 13:20:39.229758739</td>\n",
       "      <td>hej</td>\n",
       "      <td>test</td>\n",
       "      <td>123</td>\n",
       "      <td>NaN</td>\n",
       "    </tr>\n",
       "    <tr>\n",
       "      <th>1</th>\n",
       "      <td>SE</td>\n",
       "      <td>Desktop</td>\n",
       "      <td>python-requests/2.24.0</td>\n",
       "      <td>2020-12-04 13:21:22.329543591</td>\n",
       "      <td>hej</td>\n",
       "      <td>test</td>\n",
       "      <td>123</td>\n",
       "      <td>1.234568e+09</td>\n",
       "    </tr>\n",
       "  </tbody>\n",
       "</table>\n",
       "</div>"
      ],
      "text/plain": [
       "  geo_country   device              user_agent                 utc_timestamp  \\\n",
       "0          SE  Desktop  python-requests/2.24.0 2020-12-04 13:20:39.229758739   \n",
       "1          SE  Desktop  python-requests/2.24.0 2020-12-04 13:21:22.329543591   \n",
       "\n",
       "  event_data_event event_data_category  event_data_example_var  event_data_ip  \n",
       "0              hej                test                     123            NaN  \n",
       "1              hej                test                     123   1.234568e+09  "
      ]
     },
     "execution_count": 16,
     "metadata": {},
     "output_type": "execute_result"
    }
   ],
   "source": [
    "df"
   ]
  },
  {
   "cell_type": "markdown",
   "metadata": {},
   "source": [
    "## Working with dates\n",
    "Even better is to work with dates so you don't load everything at once."
   ]
  },
  {
   "cell_type": "code",
   "execution_count": 17,
   "metadata": {},
   "outputs": [
    {
     "name": "stdout",
     "output_type": "stream",
     "text": [
      "Available dates: {datetime.date(2020, 12, 4)}\n"
     ]
    }
   ],
   "source": [
    "available_dates = set([datetime.strptime('-'.join(f.split('/')[1:4]), '%Y-%m-%d').date() for f in file_keys])\n",
    "print('Available dates:', available_dates)"
   ]
  },
  {
   "cell_type": "code",
   "execution_count": 18,
   "metadata": {},
   "outputs": [],
   "source": [
    "# Function to load specific file based on path\n",
    "def load_file(file_path):\n",
    "    file = s3.Object(bucket.name, file_path)\n",
    "    return file.get()['Body'].read().decode().strip()\n",
    "\n",
    "# Function to load everything existing under a specific date folder\n",
    "def load_date(date_str: str) -> list:\n",
    "    date = datetime.strptime(date_str, '%Y-%m-%d').date()\n",
    "    date_path = '/'.join(str(date).split('-'))\n",
    "    filter_str = f'events/{date_path}/'\n",
    "    file_keys = [obj.key for obj in bucket.objects.filter(Prefix=filter_str)]\n",
    "    json_list = []\n",
    "    for f in file_keys:\n",
    "        json_list.extend([json.loads(x) for x in load_file(f).split('\\n')])\n",
    "    return json_list"
   ]
  },
  {
   "cell_type": "code",
   "execution_count": 22,
   "metadata": {},
   "outputs": [],
   "source": [
    "# Load specific date (string converted into date object in function)\n",
    "jl = load_date('2020-12-04')"
   ]
  },
  {
   "cell_type": "code",
   "execution_count": 23,
   "metadata": {},
   "outputs": [],
   "source": [
    "df = pd.json_normalize(jl, sep='_')"
   ]
  },
  {
   "cell_type": "code",
   "execution_count": 24,
   "metadata": {},
   "outputs": [
    {
     "data": {
      "text/html": [
       "<div>\n",
       "<style scoped>\n",
       "    .dataframe tbody tr th:only-of-type {\n",
       "        vertical-align: middle;\n",
       "    }\n",
       "\n",
       "    .dataframe tbody tr th {\n",
       "        vertical-align: top;\n",
       "    }\n",
       "\n",
       "    .dataframe thead th {\n",
       "        text-align: right;\n",
       "    }\n",
       "</style>\n",
       "<table border=\"1\" class=\"dataframe\">\n",
       "  <thead>\n",
       "    <tr style=\"text-align: right;\">\n",
       "      <th></th>\n",
       "      <th>geo_country</th>\n",
       "      <th>device</th>\n",
       "      <th>user_agent</th>\n",
       "      <th>utc_timestamp</th>\n",
       "      <th>event_data_event</th>\n",
       "      <th>event_data_category</th>\n",
       "      <th>event_data_example_var</th>\n",
       "      <th>event_data_ip</th>\n",
       "    </tr>\n",
       "  </thead>\n",
       "  <tbody>\n",
       "    <tr>\n",
       "      <th>0</th>\n",
       "      <td>SE</td>\n",
       "      <td>Desktop</td>\n",
       "      <td>python-requests/2.24.0</td>\n",
       "      <td>1.607087e+09</td>\n",
       "      <td>hej</td>\n",
       "      <td>test</td>\n",
       "      <td>123</td>\n",
       "      <td>NaN</td>\n",
       "    </tr>\n",
       "    <tr>\n",
       "      <th>1</th>\n",
       "      <td>SE</td>\n",
       "      <td>Desktop</td>\n",
       "      <td>python-requests/2.24.0</td>\n",
       "      <td>1.607088e+09</td>\n",
       "      <td>hej</td>\n",
       "      <td>test</td>\n",
       "      <td>123</td>\n",
       "      <td>NaN</td>\n",
       "    </tr>\n",
       "    <tr>\n",
       "      <th>2</th>\n",
       "      <td>SE</td>\n",
       "      <td>Desktop</td>\n",
       "      <td>python-requests/2.24.0</td>\n",
       "      <td>1.607088e+09</td>\n",
       "      <td>hej</td>\n",
       "      <td>test</td>\n",
       "      <td>123</td>\n",
       "      <td>1.234568e+09</td>\n",
       "    </tr>\n",
       "    <tr>\n",
       "      <th>3</th>\n",
       "      <td>SE</td>\n",
       "      <td>Desktop</td>\n",
       "      <td>python-requests/2.24.0</td>\n",
       "      <td>1.607088e+09</td>\n",
       "      <td>hej</td>\n",
       "      <td>test</td>\n",
       "      <td>123</td>\n",
       "      <td>1.234568e+09</td>\n",
       "    </tr>\n",
       "  </tbody>\n",
       "</table>\n",
       "</div>"
      ],
      "text/plain": [
       "  geo_country   device              user_agent  utc_timestamp  \\\n",
       "0          SE  Desktop  python-requests/2.24.0   1.607087e+09   \n",
       "1          SE  Desktop  python-requests/2.24.0   1.607088e+09   \n",
       "2          SE  Desktop  python-requests/2.24.0   1.607088e+09   \n",
       "3          SE  Desktop  python-requests/2.24.0   1.607088e+09   \n",
       "\n",
       "  event_data_event event_data_category  event_data_example_var  event_data_ip  \n",
       "0              hej                test                     123            NaN  \n",
       "1              hej                test                     123            NaN  \n",
       "2              hej                test                     123   1.234568e+09  \n",
       "3              hej                test                     123   1.234568e+09  "
      ]
     },
     "execution_count": 24,
     "metadata": {},
     "output_type": "execute_result"
    }
   ],
   "source": [
    "df"
   ]
  },
  {
   "cell_type": "code",
   "execution_count": null,
   "metadata": {},
   "outputs": [],
   "source": []
  }
 ],
 "metadata": {
  "kernelspec": {
   "display_name": "Python 3",
   "language": "python",
   "name": "python3"
  },
  "language_info": {
   "codemirror_mode": {
    "name": "ipython",
    "version": 3
   },
   "file_extension": ".py",
   "mimetype": "text/x-python",
   "name": "python",
   "nbconvert_exporter": "python",
   "pygments_lexer": "ipython3",
   "version": "3.7.3"
  }
 },
 "nbformat": 4,
 "nbformat_minor": 4
}
